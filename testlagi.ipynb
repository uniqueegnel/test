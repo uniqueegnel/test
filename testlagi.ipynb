{
 "cells": [
  {
   "cell_type": "code",
   "execution_count": 23,
   "metadata": {},
   "outputs": [],
   "source": [
    "import pandas as pd\n",
    "dataset = pd.read_csv('contoh.csv')"
   ]
  },
  {
   "cell_type": "code",
   "execution_count": 24,
   "metadata": {},
   "outputs": [
    {
     "name": "stdout",
     "output_type": "stream",
     "text": [
      "   Usia  Pendapatan (ribu USD) Status Pernikahan  Target (0: Tidak | 1: Ya)\n",
      "0    25                     50     Belum Menikah                          0\n",
      "1    30                     80           Menikah                          1\n",
      "2    35                    120           Menikah                          1\n",
      "3    40                     90     Belum Menikah                          0\n",
      "4    45                     60           Menikah                          0\n",
      "5    50                    150     Belum Menikah                          1\n"
     ]
    }
   ],
   "source": [
    "print(dataset)"
   ]
  },
  {
   "cell_type": "code",
   "execution_count": 25,
   "metadata": {},
   "outputs": [],
   "source": [
    "coloumn_usia = dataset ['Usia']"
   ]
  },
  {
   "cell_type": "code",
   "execution_count": 26,
   "metadata": {},
   "outputs": [
    {
     "name": "stdout",
     "output_type": "stream",
     "text": [
      "0    25\n",
      "1    30\n",
      "2    35\n",
      "3    40\n",
      "4    45\n",
      "5    50\n",
      "Name: Usia, dtype: int64\n"
     ]
    }
   ],
   "source": [
    "print(coloumn_usia)"
   ]
  },
  {
   "cell_type": "code",
   "execution_count": 31,
   "metadata": {},
   "outputs": [],
   "source": [
    "coloumn_pendapatan = dataset ['Pendapatan (ribu USD)']"
   ]
  },
  {
   "cell_type": "code",
   "execution_count": 30,
   "metadata": {},
   "outputs": [
    {
     "name": "stdout",
     "output_type": "stream",
     "text": [
      "0     50\n",
      "1     80\n",
      "2    120\n",
      "3     90\n",
      "4     60\n",
      "5    150\n",
      "Name: Pendapatan (ribu USD), dtype: int64\n"
     ]
    }
   ],
   "source": [
    "print(coloumn_pendapatan)"
   ]
  },
  {
   "cell_type": "code",
   "execution_count": 35,
   "metadata": {},
   "outputs": [],
   "source": [
    "dataset = pd.concat ([dataset ['Usia'], dataset['Pendapatan (ribu USD)']], axis = 1)"
   ]
  },
  {
   "cell_type": "code",
   "execution_count": 36,
   "metadata": {},
   "outputs": [
    {
     "name": "stdout",
     "output_type": "stream",
     "text": [
      "   Usia  Pendapatan (ribu USD)\n",
      "0    25                     50\n",
      "1    30                     80\n",
      "2    35                    120\n",
      "3    40                     90\n",
      "4    45                     60\n",
      "5    50                    150\n"
     ]
    }
   ],
   "source": [
    "print(dataset)"
   ]
  }
 ],
 "metadata": {
  "kernelspec": {
   "display_name": "Python 3",
   "language": "python",
   "name": "python3"
  },
  "language_info": {
   "codemirror_mode": {
    "name": "ipython",
    "version": 3
   },
   "file_extension": ".py",
   "mimetype": "text/x-python",
   "name": "python",
   "nbconvert_exporter": "python",
   "pygments_lexer": "ipython3",
   "version": "3.10.12"
  },
  "orig_nbformat": 4
 },
 "nbformat": 4,
 "nbformat_minor": 2
}
