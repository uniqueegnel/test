{
 "cells": [
  {
   "attachments": {},
   "cell_type": "markdown",
   "metadata": {},
   "source": [
    "Unique Scovi Egnel\n",
    "20210801509\n",
    "UTS_Machine Learning"
   ]
  },
  {
   "cell_type": "code",
   "execution_count": 11,
   "metadata": {},
   "outputs": [],
   "source": [
    "# Import library yang dibutuhkan\n",
    "import pandas as pd\n",
    "\n",
    "# Definisikan data set\n",
    "data = {\n",
    "    \"hari\": [\"Senin\", \"Selasa\", \"Rabu\", \"Kamis\", \"Jumat\", \"Sabtu\", \"Minggu\"],\n",
    "    \"datang\": [2, 3, 4, 1, 2, 5, 2],\n",
    "    \"biaya\": [2 * 30000, 3 * 35000, 4 * 25000, 1 * 15000, 2 * 20000, 5 * 30000, 2 * 35000],\n",
    "    \"mahasiswa\": [\"Ani\", \"Budi\", \"Jono\", \"Lono\", \"Jono\", \"Ani\", \"Budi\"],\n",
    "}\n",
    "\n",
    "# Buat DataFrame\n",
    "df = pd.DataFrame(data)"
   ]
  },
  {
   "attachments": {},
   "cell_type": "markdown",
   "metadata": {},
   "source": [
    "Berapa rata-rata mahasiswa datang pada minggu ini?\n",
    "Jawaban 1a."
   ]
  },
  {
   "cell_type": "code",
   "execution_count": 12,
   "metadata": {},
   "outputs": [
    {
     "name": "stdout",
     "output_type": "stream",
     "text": [
      "Rata-rata mahasiswa yang datang: 2.7142857142857144\n"
     ]
    }
   ],
   "source": [
    "print(\"Rata-rata mahasiswa yang datang:\", df[\"datang\"].mean())"
   ]
  },
  {
   "attachments": {},
   "cell_type": "markdown",
   "metadata": {},
   "source": [
    "Kapan biaya tertinggi terjadi ?\n",
    "Jawaban 1b. "
   ]
  },
  {
   "cell_type": "code",
   "execution_count": 14,
   "metadata": {},
   "outputs": [
    {
     "name": "stdout",
     "output_type": "stream",
     "text": [
      "Biaya tertinggi pada hari: Sabtu\n"
     ]
    }
   ],
   "source": [
    "print(\"Biaya tertinggi pada hari:\", df[\"hari\"][df[\"biaya\"] == df[\"biaya\"].max()].item())\n"
   ]
  },
  {
   "attachments": {},
   "cell_type": "markdown",
   "metadata": {},
   "source": [
    "Hari apa biaya lebih dari 110000?\n",
    "Jawaban 1c."
   ]
  },
  {
   "cell_type": "code",
   "execution_count": 15,
   "metadata": {},
   "outputs": [
    {
     "name": "stdout",
     "output_type": "stream",
     "text": [
      "Biaya lebih dari 110000, pada hari: Sabtu\n"
     ]
    }
   ],
   "source": [
    "print(\"Biaya lebih dari 110000, pada hari:\", df[\"hari\"][df[\"biaya\"] > 110000].item())"
   ]
  },
  {
   "attachments": {},
   "cell_type": "markdown",
   "metadata": {},
   "source": [
    "Siapa yang paling banyak datang ke kampus?\n",
    "Jawaban 1d."
   ]
  },
  {
   "cell_type": "code",
   "execution_count": 16,
   "metadata": {},
   "outputs": [
    {
     "name": "stdout",
     "output_type": "stream",
     "text": [
      "Mahasiswa yang paling banyak datang ke kampus adalah: Ani\n"
     ]
    }
   ],
   "source": [
    "print(\"Mahasiswa yang paling banyak datang ke kampus adalah:\", df[\"mahasiswa\"][df[\"datang\"].max()])\n"
   ]
  },
  {
   "attachments": {},
   "cell_type": "markdown",
   "metadata": {},
   "source": [
    "Siapa yang datang pada hari minggu?\n",
    "jawaban 1e."
   ]
  },
  {
   "cell_type": "code",
   "execution_count": 17,
   "metadata": {},
   "outputs": [
    {
     "name": "stdout",
     "output_type": "stream",
     "text": [
      "Mahasiswa yang datang pada hari minggu: Budi\n"
     ]
    }
   ],
   "source": [
    "print(\"Mahasiswa yang datang pada hari minggu:\", df[\"mahasiswa\"][df[\"hari\"] == \"Minggu\"].item())"
   ]
  },
  {
   "attachments": {},
   "cell_type": "markdown",
   "metadata": {},
   "source": [
    "Berapa biaya tertinggi dan terendah?\n",
    "Jawaban 1f."
   ]
  },
  {
   "cell_type": "code",
   "execution_count": 18,
   "metadata": {},
   "outputs": [
    {
     "name": "stdout",
     "output_type": "stream",
     "text": [
      "Biaya tertinggi: 150000\n"
     ]
    }
   ],
   "source": [
    "print(\"Biaya tertinggi:\", df[\"biaya\"].max())"
   ]
  },
  {
   "cell_type": "code",
   "execution_count": 19,
   "metadata": {},
   "outputs": [
    {
     "name": "stdout",
     "output_type": "stream",
     "text": [
      "Biaya terendah: 15000\n"
     ]
    }
   ],
   "source": [
    "print(\"Biaya terendah:\", df[\"biaya\"].min())"
   ]
  },
  {
   "attachments": {},
   "cell_type": "markdown",
   "metadata": {},
   "source": [
    "Berapa frekuensi datang tertinggi dan terendah?\n",
    "jawaban 1g"
   ]
  },
  {
   "cell_type": "code",
   "execution_count": 20,
   "metadata": {},
   "outputs": [
    {
     "name": "stdout",
     "output_type": "stream",
     "text": [
      "Frekuensi datang tertinggi: 5\n"
     ]
    }
   ],
   "source": [
    "print(\"Frekuensi datang tertinggi:\", df[\"datang\"].max())"
   ]
  },
  {
   "cell_type": "code",
   "execution_count": 21,
   "metadata": {},
   "outputs": [
    {
     "name": "stdout",
     "output_type": "stream",
     "text": [
      "Frekuensi datang terendah: 1\n"
     ]
    }
   ],
   "source": [
    "print(\"Frekuensi datang terendah:\", df[\"datang\"].min())"
   ]
  },
  {
   "attachments": {},
   "cell_type": "markdown",
   "metadata": {},
   "source": [
    "No. 2"
   ]
  },
  {
   "cell_type": "code",
   "execution_count": 4,
   "metadata": {},
   "outputs": [
    {
     "data": {
      "image/png": "[encoded data removed]",
      "text/plain": [
       "<Figure size 640x480 with 1 Axes>"
      ]
     },
     "metadata": {},
     "output_type": "display_data"
    }
   ],
   "source": [
    "import pandas as pd\n",
    "import matplotlib.pyplot as plt\n",
    "\n",
    "# Definisikan data set\n",
    "fakultas = [\"Bisnis\", \"D3 Perhotelan\", \"ICT\", \"IlKom\", \"Seni&Des\"]\n",
    "jumlah_mahasiswa = [260, 28, 284, 465, 735]\n",
    "akreditasi = [\"A\", \"A\", \"B\", \"A\", \"A\"]\n",
    "info_mahasiswa = pd.DataFrame({\n",
    "    \"fakultas\": fakultas,\n",
    "    \"jumlah_mahasiswa\": jumlah_mahasiswa,\n",
    "    \"akreditasi\": akreditasi,\n",
    "})\n",
    "\n",
    "# Buat plot\n",
    "fig, ax = plt.subplots()\n",
    "colors = [\"blue\", \"orange\", \"gray\", \"green\", \"brown\"]\n",
    "ax.bar(info_mahasiswa[\"fakultas\"], info_mahasiswa[\"jumlah_mahasiswa\"],\n",
    "       width=1, color=colors)\n",
    "ax.set_ylabel(\"Jumlah Mahasiswa\")\n",
    "ax.set_xlabel(\"Fakultas\")\n",
    "ax.set_title(\"Jumlah Mahasiswa per Fakultas\")\n",
    "\n",
    "# Tampilkan plot\n",
    "plt.show()"
   ]
  }
 ],
 "metadata": {
  "kernelspec": {
   "display_name": "Python 3",
   "language": "python",
   "name": "python3"
  },
  "language_info": {
   "codemirror_mode": {
    "name": "ipython",
    "version": 3
   },
   "file_extension": ".py",
   "mimetype": "text/x-python",
   "name": "python",
   "nbconvert_exporter": "python",
   "pygments_lexer": "ipython3",
   "version": "3.10.12"
  },
  "orig_nbformat": 4
 },
 "nbformat": 4,
 "nbformat_minor": 2
}
